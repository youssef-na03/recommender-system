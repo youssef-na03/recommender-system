{
 "cells": [
  {
   "cell_type": "code",
   "execution_count": 5,
   "id": "a23f6251",
   "metadata": {},
   "outputs": [],
   "source": [
    "import zipfile\n",
    "import requests\n",
    "import io\n",
    "import pandas as pd\n",
    "# URL of MovieLens 100k zip\n",
    "url = \"https://files.grouplens.org/datasets/movielens/ml-100k.zip\"\n",
    "\n",
    "# Download and unzip in memory\n",
    "response = requests.get(url)\n",
    "with zipfile.ZipFile(io.BytesIO(response.content)) as z:\n",
    "    with z.open('ml-100k/u.data') as f1:\n",
    "        ratings = pd.read_csv(f1, sep='\\t', names=['user_id', 'movie_id', 'rating'], encoding='ISO-8859-1')\n",
    "    with z.open('ml-100k/u.item') as f2:\n",
    "        movies = pd.read_csv(f2, sep='|', names=['movie_id', 'title'], usecols=[0, 1], encoding='ISO-8859-1')\n",
    "\n",
    "ratings=pd.merge(ratings,movies)"
   ]
  },
  {
   "cell_type": "code",
   "execution_count": 7,
   "id": "9fea42ce",
   "metadata": {},
   "outputs": [
    {
     "data": {
      "text/html": [
       "<div>\n",
       "<style scoped>\n",
       "    .dataframe tbody tr th:only-of-type {\n",
       "        vertical-align: middle;\n",
       "    }\n",
       "\n",
       "    .dataframe tbody tr th {\n",
       "        vertical-align: top;\n",
       "    }\n",
       "\n",
       "    .dataframe thead th {\n",
       "        text-align: right;\n",
       "    }\n",
       "</style>\n",
       "<table border=\"1\" class=\"dataframe\">\n",
       "  <thead>\n",
       "    <tr style=\"text-align: right;\">\n",
       "      <th></th>\n",
       "      <th>user_id</th>\n",
       "      <th>movie_id</th>\n",
       "      <th>rating</th>\n",
       "      <th>title</th>\n",
       "    </tr>\n",
       "  </thead>\n",
       "  <tbody>\n",
       "    <tr>\n",
       "      <th>0</th>\n",
       "      <td>242</td>\n",
       "      <td>3</td>\n",
       "      <td>881250949</td>\n",
       "      <td>Four Rooms (1995)</td>\n",
       "    </tr>\n",
       "    <tr>\n",
       "      <th>1</th>\n",
       "      <td>302</td>\n",
       "      <td>3</td>\n",
       "      <td>891717742</td>\n",
       "      <td>Four Rooms (1995)</td>\n",
       "    </tr>\n",
       "    <tr>\n",
       "      <th>2</th>\n",
       "      <td>377</td>\n",
       "      <td>1</td>\n",
       "      <td>878887116</td>\n",
       "      <td>Toy Story (1995)</td>\n",
       "    </tr>\n",
       "    <tr>\n",
       "      <th>3</th>\n",
       "      <td>51</td>\n",
       "      <td>2</td>\n",
       "      <td>880606923</td>\n",
       "      <td>GoldenEye (1995)</td>\n",
       "    </tr>\n",
       "    <tr>\n",
       "      <th>4</th>\n",
       "      <td>346</td>\n",
       "      <td>1</td>\n",
       "      <td>886397596</td>\n",
       "      <td>Toy Story (1995)</td>\n",
       "    </tr>\n",
       "    <tr>\n",
       "      <th>5</th>\n",
       "      <td>474</td>\n",
       "      <td>4</td>\n",
       "      <td>884182806</td>\n",
       "      <td>Get Shorty (1995)</td>\n",
       "    </tr>\n",
       "    <tr>\n",
       "      <th>6</th>\n",
       "      <td>265</td>\n",
       "      <td>2</td>\n",
       "      <td>881171488</td>\n",
       "      <td>GoldenEye (1995)</td>\n",
       "    </tr>\n",
       "    <tr>\n",
       "      <th>7</th>\n",
       "      <td>465</td>\n",
       "      <td>5</td>\n",
       "      <td>891628467</td>\n",
       "      <td>Copycat (1995)</td>\n",
       "    </tr>\n",
       "    <tr>\n",
       "      <th>8</th>\n",
       "      <td>451</td>\n",
       "      <td>3</td>\n",
       "      <td>886324817</td>\n",
       "      <td>Four Rooms (1995)</td>\n",
       "    </tr>\n",
       "    <tr>\n",
       "      <th>9</th>\n",
       "      <td>86</td>\n",
       "      <td>3</td>\n",
       "      <td>883603013</td>\n",
       "      <td>Four Rooms (1995)</td>\n",
       "    </tr>\n",
       "  </tbody>\n",
       "</table>\n",
       "</div>"
      ],
      "text/plain": [
       "   user_id  movie_id     rating              title\n",
       "0      242         3  881250949  Four Rooms (1995)\n",
       "1      302         3  891717742  Four Rooms (1995)\n",
       "2      377         1  878887116   Toy Story (1995)\n",
       "3       51         2  880606923   GoldenEye (1995)\n",
       "4      346         1  886397596   Toy Story (1995)\n",
       "5      474         4  884182806  Get Shorty (1995)\n",
       "6      265         2  881171488   GoldenEye (1995)\n",
       "7      465         5  891628467     Copycat (1995)\n",
       "8      451         3  886324817  Four Rooms (1995)\n",
       "9       86         3  883603013  Four Rooms (1995)"
      ]
     },
     "execution_count": 7,
     "metadata": {},
     "output_type": "execute_result"
    }
   ],
   "source": [
    "ratings.head(10)"
   ]
  },
  {
   "cell_type": "code",
   "execution_count": 15,
   "id": "a89d4e82",
   "metadata": {},
   "outputs": [
    {
     "name": "stderr",
     "output_type": "stream",
     "text": [
      "/tmp/ipykernel_4085/1254925699.py:3: FutureWarning: The provided callable <function mean at 0x73fd060659e0> is currently using SeriesGroupBy.mean. In a future version of pandas, the provided callable will be used directly. To keep current behavior pass the string \"mean\" instead.\n",
      "  movieProperties = ratings.groupby('movie_id').agg({'rating': [np.size, np.mean]})\n"
     ]
    },
    {
     "data": {
      "text/html": [
       "<div>\n",
       "<style scoped>\n",
       "    .dataframe tbody tr th:only-of-type {\n",
       "        vertical-align: middle;\n",
       "    }\n",
       "\n",
       "    .dataframe tbody tr th {\n",
       "        vertical-align: top;\n",
       "    }\n",
       "\n",
       "    .dataframe thead th {\n",
       "        text-align: right;\n",
       "    }\n",
       "</style>\n",
       "<table border=\"1\" class=\"dataframe\">\n",
       "  <thead>\n",
       "    <tr style=\"text-align: right;\">\n",
       "      <th></th>\n",
       "      <th>size</th>\n",
       "    </tr>\n",
       "    <tr>\n",
       "      <th>movie_id</th>\n",
       "      <th></th>\n",
       "    </tr>\n",
       "  </thead>\n",
       "  <tbody>\n",
       "    <tr>\n",
       "      <th>1</th>\n",
       "      <td>0.000000</td>\n",
       "    </tr>\n",
       "    <tr>\n",
       "      <th>2</th>\n",
       "      <td>0.187429</td>\n",
       "    </tr>\n",
       "    <tr>\n",
       "      <th>3</th>\n",
       "      <td>0.749537</td>\n",
       "    </tr>\n",
       "    <tr>\n",
       "      <th>4</th>\n",
       "      <td>1.000000</td>\n",
       "    </tr>\n",
       "    <tr>\n",
       "      <th>5</th>\n",
       "      <td>0.537735</td>\n",
       "    </tr>\n",
       "  </tbody>\n",
       "</table>\n",
       "</div>"
      ],
      "text/plain": [
       "              size\n",
       "movie_id          \n",
       "1         0.000000\n",
       "2         0.187429\n",
       "3         0.749537\n",
       "4         1.000000\n",
       "5         0.537735"
      ]
     },
     "execution_count": 15,
     "metadata": {},
     "output_type": "execute_result"
    }
   ],
   "source": [
    "import numpy as np\n",
    "\n",
    "movieProperties = ratings.groupby('movie_id').agg({'rating': [np.size, np.mean]})\n",
    "movieProperties.head()\n",
    "movieNumRatings = pd.DataFrame(movieProperties['rating']['size'])\n",
    "movieNormalizedNumRatings = movieNumRatings.apply(lambda x: (x - np.min(x)) / (np.max(x) - np.min(x)))\n",
    "movieNormalizedNumRatings.head()"
   ]
  },
  {
   "cell_type": "code",
   "execution_count": null,
   "id": "29f3cd4d",
   "metadata": {},
   "outputs": [],
   "source": []
  },
  {
   "cell_type": "code",
   "execution_count": null,
   "id": "4f2e90b9",
   "metadata": {},
   "outputs": [
    {
     "ename": "ValueError",
     "evalue": "Attempt to use ZIP archive that was already closed",
     "output_type": "error",
     "traceback": [
      "\u001b[31m---------------------------------------------------------------------------\u001b[39m",
      "\u001b[31mValueError\u001b[39m                                Traceback (most recent call last)",
      "\u001b[36mCell\u001b[39m\u001b[36m \u001b[39m\u001b[32mIn[6]\u001b[39m\u001b[32m, line 1\u001b[39m\n\u001b[32m----> \u001b[39m\u001b[32m1\u001b[39m \u001b[38;5;28;01mwith\u001b[39;00m \u001b[43mz\u001b[49m\u001b[43m.\u001b[49m\u001b[43mopen\u001b[49m\u001b[43m(\u001b[49m\u001b[33;43m'\u001b[39;49m\u001b[33;43mml-100k/u.item\u001b[39;49m\u001b[33;43m'\u001b[39;49m\u001b[43m)\u001b[49m \u001b[38;5;28;01mas\u001b[39;00m f:\n\u001b[32m      2\u001b[39m     temp=\u001b[33m'\u001b[39m\u001b[33m'\u001b[39m\n\u001b[32m      3\u001b[39m     \u001b[38;5;28;01mfor\u001b[39;00m line \u001b[38;5;129;01min\u001b[39;00m f :\n",
      "\u001b[36mFile \u001b[39m\u001b[32m/usr/lib/python3.13/zipfile/__init__.py:1626\u001b[39m, in \u001b[36mZipFile.open\u001b[39m\u001b[34m(self, name, mode, pwd, force_zip64)\u001b[39m\n\u001b[32m   1624\u001b[39m     \u001b[38;5;28;01mraise\u001b[39;00m \u001b[38;5;167;01mValueError\u001b[39;00m(\u001b[33m\"\u001b[39m\u001b[33mpwd is only supported for reading files\u001b[39m\u001b[33m\"\u001b[39m)\n\u001b[32m   1625\u001b[39m \u001b[38;5;28;01mif\u001b[39;00m \u001b[38;5;129;01mnot\u001b[39;00m \u001b[38;5;28mself\u001b[39m.fp:\n\u001b[32m-> \u001b[39m\u001b[32m1626\u001b[39m     \u001b[38;5;28;01mraise\u001b[39;00m \u001b[38;5;167;01mValueError\u001b[39;00m(\n\u001b[32m   1627\u001b[39m         \u001b[33m\"\u001b[39m\u001b[33mAttempt to use ZIP archive that was already closed\u001b[39m\u001b[33m\"\u001b[39m)\n\u001b[32m   1629\u001b[39m \u001b[38;5;66;03m# Make sure we have an info object\u001b[39;00m\n\u001b[32m   1630\u001b[39m \u001b[38;5;28;01mif\u001b[39;00m \u001b[38;5;28misinstance\u001b[39m(name, ZipInfo):\n\u001b[32m   1631\u001b[39m     \u001b[38;5;66;03m# 'name' is already an info object\u001b[39;00m\n",
      "\u001b[31mValueError\u001b[39m: Attempt to use ZIP archive that was already closed"
     ]
    }
   ],
   "source": [
    "\n",
    "with z.open('ml-100k/u.item') as f:\n",
    "    movie_dict = {}\n",
    "    for line in f:\n",
    "        line = line.decode('ISO-8859-1')\n",
    "        fields = line.rstrip('\\n').split('|')\n",
    "        movie_id = int(fields[0])\n",
    "        name = fields[1]\n",
    "        genre = np.array(list(map(int, fields[5:25])))\n",
    "        # Use .get to avoid KeyError if movie_id is missing\n",
    "        size = movieNormalizedNumRatings['size'].get(movie_id, np.nan)\n",
    "        mean = movieProperties['rating']['mean'].get(movie_id, np.nan)\n",
    "        movie_dict[movie_id] = (name, genre, size, mean)\n",
    "# To access info for movie_id 1:\n",
    "movie_dict.get(1)"
   ]
  },
  {
   "cell_type": "code",
   "execution_count": 9,
   "id": "c28540d2",
   "metadata": {},
   "outputs": [
    {
     "data": {
      "text/html": [
       "<div>\n",
       "<style scoped>\n",
       "    .dataframe tbody tr th:only-of-type {\n",
       "        vertical-align: middle;\n",
       "    }\n",
       "\n",
       "    .dataframe tbody tr th {\n",
       "        vertical-align: top;\n",
       "    }\n",
       "\n",
       "    .dataframe thead th {\n",
       "        text-align: right;\n",
       "    }\n",
       "</style>\n",
       "<table border=\"1\" class=\"dataframe\">\n",
       "  <thead>\n",
       "    <tr style=\"text-align: right;\">\n",
       "      <th>title</th>\n",
       "      <th>Copycat (1995)</th>\n",
       "      <th>Four Rooms (1995)</th>\n",
       "      <th>Get Shorty (1995)</th>\n",
       "      <th>GoldenEye (1995)</th>\n",
       "      <th>Toy Story (1995)</th>\n",
       "    </tr>\n",
       "    <tr>\n",
       "      <th>title</th>\n",
       "      <th></th>\n",
       "      <th></th>\n",
       "      <th></th>\n",
       "      <th></th>\n",
       "      <th></th>\n",
       "    </tr>\n",
       "  </thead>\n",
       "  <tbody>\n",
       "    <tr>\n",
       "      <th>Copycat (1995)</th>\n",
       "      <td>1.000000</td>\n",
       "      <td>0.250287</td>\n",
       "      <td>0.255625</td>\n",
       "      <td>0.184440</td>\n",
       "      <td>0.183435</td>\n",
       "    </tr>\n",
       "    <tr>\n",
       "      <th>Four Rooms (1995)</th>\n",
       "      <td>0.250287</td>\n",
       "      <td>1.000000</td>\n",
       "      <td>0.345131</td>\n",
       "      <td>0.236943</td>\n",
       "      <td>0.223543</td>\n",
       "    </tr>\n",
       "    <tr>\n",
       "      <th>Get Shorty (1995)</th>\n",
       "      <td>0.255625</td>\n",
       "      <td>0.345131</td>\n",
       "      <td>1.000000</td>\n",
       "      <td>0.258819</td>\n",
       "      <td>0.219815</td>\n",
       "    </tr>\n",
       "    <tr>\n",
       "      <th>GoldenEye (1995)</th>\n",
       "      <td>0.184440</td>\n",
       "      <td>0.236943</td>\n",
       "      <td>0.258819</td>\n",
       "      <td>1.000000</td>\n",
       "      <td>0.192220</td>\n",
       "    </tr>\n",
       "    <tr>\n",
       "      <th>Toy Story (1995)</th>\n",
       "      <td>0.183435</td>\n",
       "      <td>0.223543</td>\n",
       "      <td>0.219815</td>\n",
       "      <td>0.192220</td>\n",
       "      <td>1.000000</td>\n",
       "    </tr>\n",
       "  </tbody>\n",
       "</table>\n",
       "</div>"
      ],
      "text/plain": [
       "title              Copycat (1995)  Four Rooms (1995)  Get Shorty (1995)  \\\n",
       "title                                                                     \n",
       "Copycat (1995)           1.000000           0.250287           0.255625   \n",
       "Four Rooms (1995)        0.250287           1.000000           0.345131   \n",
       "Get Shorty (1995)        0.255625           0.345131           1.000000   \n",
       "GoldenEye (1995)         0.184440           0.236943           0.258819   \n",
       "Toy Story (1995)         0.183435           0.223543           0.219815   \n",
       "\n",
       "title              GoldenEye (1995)  Toy Story (1995)  \n",
       "title                                                  \n",
       "Copycat (1995)             0.184440          0.183435  \n",
       "Four Rooms (1995)          0.236943          0.223543  \n",
       "Get Shorty (1995)          0.258819          0.219815  \n",
       "GoldenEye (1995)           1.000000          0.192220  \n",
       "Toy Story (1995)           0.192220          1.000000  "
      ]
     },
     "execution_count": 9,
     "metadata": {},
     "output_type": "execute_result"
    }
   ],
   "source": [
    "corrMatrix=movieRatings.corr(method='pearson',min_periods=100)\n",
    "corrMatrix"
   ]
  },
  {
   "cell_type": "code",
   "execution_count": 10,
   "id": "2d993fc8",
   "metadata": {},
   "outputs": [
    {
     "data": {
      "text/plain": [
       "title\n",
       "Copycat (1995)       8.823133e+08\n",
       "Four Rooms (1995)    8.825176e+08\n",
       "Get Shorty (1995)    8.828745e+08\n",
       "GoldenEye (1995)     8.857561e+08\n",
       "Toy Story (1995)     8.818722e+08\n",
       "Name: 1, dtype: float64"
      ]
     },
     "execution_count": 10,
     "metadata": {},
     "output_type": "execute_result"
    }
   ],
   "source": [
    "user_rating=movieRatings.loc[1].dropna()\n",
    "user_rating"
   ]
  },
  {
   "cell_type": "code",
   "execution_count": 11,
   "id": "2719936e",
   "metadata": {},
   "outputs": [
    {
     "name": "stdout",
     "output_type": "stream",
     "text": [
      "Adding similarity for: Copycat (1995) (rating: 882313308.4033613)\n",
      "Adding similarity for: Four Rooms (1995) (rating: 882517621.46875)\n",
      "Adding similarity for: Get Shorty (1995) (rating: 882874523.039604)\n",
      "Adding similarity for: GoldenEye (1995) (rating: 885756100.6296296)\n",
      "Adding similarity for: Toy Story (1995) (rating: 881872165.875)\n",
      "Sorting...\n",
      "Top 10 Recommendations:\n",
      "Series([], dtype: float64)\n"
     ]
    }
   ],
   "source": [
    "simcondidates = pd.Series(dtype='float64')\n",
    "\n",
    "for i in range(len(user_rating)):\n",
    "    movie = user_rating.index[i]\n",
    "    rating = user_rating.iloc[i]\n",
    "    \n",
    "    if movie in corrMatrix.columns:\n",
    "        print(f\"Adding similarity for: {movie} (rating: {rating})\")\n",
    "        similarity = corrMatrix[movie].dropna()\n",
    "        similarity = similarity.map(lambda x: x * rating)\n",
    "        simcondidates = simcondidates.add(similarity, fill_value=0)\n",
    "    else:\n",
    "        print(f\"Skipping {movie}, not in corrMatrix\")\n",
    "\n",
    "print(\"Sorting...\")\n",
    "simcondidates.sort_values(inplace=True, ascending=False)\n",
    "\n",
    "# Filter out already-rated movies\n",
    "recommendations = simcondidates.drop(labels=user_rating.index, errors='ignore')\n",
    "\n",
    "print(\"Top 10 Recommendations:\")\n",
    "print(recommendations.head(10))\n"
   ]
  },
  {
   "cell_type": "code",
   "execution_count": null,
   "id": "43aaa080",
   "metadata": {},
   "outputs": [
    {
     "name": "stdout",
     "output_type": "stream",
     "text": [
      "adding similarity for  Copycat (1995) ...\n",
      "adding similarity for  Four Rooms (1995) ...\n",
      "adding similarity for  Get Shorty (1995) ...\n",
      "adding similarity for  GoldenEye (1995) ...\n",
      "adding similarity for  Toy Story (1995) ...\n",
      "sorting...\n"
     ]
    },
    {
     "name": "stderr",
     "output_type": "stream",
     "text": [
      "/tmp/ipykernel_8705/501517445.py:5: FutureWarning: Series.__getitem__ treating keys as positions is deprecated. In a future version, integer keys will always be treated as labels (consistent with DataFrame behavior). To access a value by position, use `ser.iloc[pos]`\n",
      "  simaliraty= simaliraty.map(lambda x : x *user_rating[i])\n"
     ]
    },
    {
     "data": {
      "text/plain": [
       "title\n",
       "Copycat (1995)       NaN\n",
       "Four Rooms (1995)    NaN\n",
       "Get Shorty (1995)    NaN\n",
       "GoldenEye (1995)     NaN\n",
       "Toy Story (1995)     NaN\n",
       "dtype: object"
      ]
     },
     "execution_count": 32,
     "metadata": {},
     "output_type": "execute_result"
    }
   ],
   "source": []
  }
 ],
 "metadata": {
  "kernelspec": {
   "display_name": ".venv",
   "language": "python",
   "name": "python3"
  },
  "language_info": {
   "codemirror_mode": {
    "name": "ipython",
    "version": 3
   },
   "file_extension": ".py",
   "mimetype": "text/x-python",
   "name": "python",
   "nbconvert_exporter": "python",
   "pygments_lexer": "ipython3",
   "version": "3.13.3"
  }
 },
 "nbformat": 4,
 "nbformat_minor": 5
}
